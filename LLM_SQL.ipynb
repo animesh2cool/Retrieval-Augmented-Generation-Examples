{
 "cells": [
  {
   "cell_type": "markdown",
   "id": "d89ba413-7d22-4584-ae30-2d63cce6ceca",
   "metadata": {},
   "source": [
    "<h1>DB Connection</h1>"
   ]
  },
  {
   "cell_type": "code",
   "execution_count": 77,
   "id": "d51892e5-5ad6-4cc2-a88e-e82938fc1abc",
   "metadata": {},
   "outputs": [
    {
     "name": "stdout",
     "output_type": "stream",
     "text": [
      "Table Info: \n",
      "CREATE TABLE sales_tb (\n",
      "\t\"TransactionID\" INTEGER, \n",
      "\t\"Date\" DATE, \n",
      "\t\"CustomerID\" VARCHAR(10), \n",
      "\t\"Gender\" VARCHAR(10), \n",
      "\t\"Age\" INTEGER, \n",
      "\t\"ProductCategory\" VARCHAR(50), \n",
      "\t\"Quantity\" INTEGER, \n",
      "\t\"PriceperUnit\" DECIMAL(10, 2), \n",
      "\t\"TotalAmount\" DECIMAL(10, 2)\n",
      ")\n",
      "\n",
      "/*\n",
      "3 rows from sales_tb table:\n",
      "TransactionID\tDate\tCustomerID\tGender\tAge\tProductCategory\tQuantity\tPriceperUnit\tTotalAmount\n",
      "1\t2023-11-24\tCUST001\tMale\t34\tBeauty\t3\t50.00\t150.00\n",
      "2\t2023-02-27\tCUST002\tFemale\t26\tClothing\t2\t500.00\t1000.00\n",
      "3\t2023-01-13\tCUST003\tMale\t50\tElectronics\t1\t30.00\t30.00\n",
      "*/\n"
     ]
    }
   ],
   "source": [
    "import sqlite3\n",
    "from langchain.sql_database import SQLDatabase\n",
    "\n",
    "\n",
    "# Connect to the database\n",
    "db_name = \"retail_sales.db\"\n",
    "\n",
    "db = SQLDatabase.from_uri(\n",
    "    f\"sqlite:///{db_name}\",\n",
    "    #sample_rows_in_table_info=5,\n",
    ")\n",
    "\n",
    "table_info = db.get_table_info()\n",
    "print(\"Table Info:\", table_info)"
   ]
  },
  {
   "cell_type": "markdown",
   "id": "b0f13f25-b98c-4cab-aa32-6b65beb7893a",
   "metadata": {},
   "source": [
    "<h1>LLM Connection</h1>"
   ]
  },
  {
   "cell_type": "code",
   "execution_count": 54,
   "id": "13127ce5-8109-4459-83f9-9e85726fe066",
   "metadata": {},
   "outputs": [],
   "source": [
    "from langchain_community.chat_models import ChatOllama\n",
    "\n",
    "llm = ChatOllama(\n",
    "    model=\"phi3\",\n",
    "    base_url=\"http://localhost:11434\"\n",
    ")"
   ]
  },
  {
   "cell_type": "markdown",
   "id": "7ab941a9-544c-4221-a1b0-286731a0f565",
   "metadata": {},
   "source": [
    "<h1>Question to SQL query </h1>"
   ]
  },
  {
   "cell_type": "code",
   "execution_count": 58,
   "id": "830a1444-245c-4b42-825a-8de63be1acd1",
   "metadata": {},
   "outputs": [
    {
     "data": {
      "text/plain": [
       "'Question: How many customers are there?\\nSQLQuery: SELECT COUNT(DISTINCT \"CustomerID\") FROM sales_tb;'"
      ]
     },
     "execution_count": 58,
     "metadata": {},
     "output_type": "execute_result"
    }
   ],
   "source": [
    "from langchain.chains import create_sql_query_chain\n",
    "\n",
    "chain = create_sql_query_chain(llm, db)\n",
    "response = chain.invoke({\"question\": \"How many customers are there\"})\n",
    "response"
   ]
  },
  {
   "cell_type": "code",
   "execution_count": 65,
   "id": "ca8a2c92-8060-46f4-8bca-379dcde65bda",
   "metadata": {},
   "outputs": [
    {
     "name": "stdout",
     "output_type": "stream",
     "text": [
      "SELECT COUNT(DISTINCT \"CustomerID\") FROM sales_tb;\n"
     ]
    }
   ],
   "source": [
    "#clean the query\n",
    "import re\n",
    "\n",
    "match = re.search(r'SQLQuery: (.*)', response)\n",
    "if match:\n",
    "    sql_query = match.group(1)\n",
    "    print(sql_query)"
   ]
  },
  {
   "cell_type": "code",
   "execution_count": 69,
   "id": "7617c20d-a3ca-44a2-8b46-ca0195bf64fb",
   "metadata": {},
   "outputs": [
    {
     "name": "stdout",
     "output_type": "stream",
     "text": [
      "[(29,)]\n"
     ]
    }
   ],
   "source": [
    "# Execute the cleaned query\n",
    "result = db.run(sql_query)\n",
    "print(result)"
   ]
  },
  {
   "cell_type": "code",
   "execution_count": 56,
   "id": "6f918d5b-36ed-444f-9808-78b18f4d0316",
   "metadata": {},
   "outputs": [
    {
     "name": "stdout",
     "output_type": "stream",
     "text": [
      "SELECT ProductCategory, COUNT(DISTINCT CustomerID) AS UniqueCustomerCount\n",
      "FROM Sales\n",
      "GROUP BY ProductCategory;\n"
     ]
    }
   ],
   "source": [
    "#Configure LangChain to Return Only SQL\n",
    "\n",
    "chain = create_sql_query_chain(llm, db)\n",
    "chain.get_prompts()[0].template = \"\"\"You are a helpfull assistant, given an input question, only create a syntactically correct SQLite query to run. Do not write unnesesary things\n",
    "\n",
    "Question: {input}\n",
    "SQLQuery:\"\"\"\n",
    "\n",
    "response = chain.invoke({\"question\": \"How many unique customers are there for each product category\"})\n",
    "print(response)"
   ]
  },
  {
   "cell_type": "code",
   "execution_count": 71,
   "id": "c729ce63-bb5d-4fab-883c-f738dc42103c",
   "metadata": {},
   "outputs": [],
   "source": [
    "# Execute the cleaned query\n",
    "result = db.run(response)\n",
    "print(result)"
   ]
  },
  {
   "cell_type": "markdown",
   "id": "42859396-8419-4e0c-a5e7-601170e2303a",
   "metadata": {},
   "source": [
    "<h1>Automate the Process</h1>"
   ]
  },
  {
   "cell_type": "code",
   "execution_count": 103,
   "id": "c04b686f-224d-4bc6-b328-ed9200f2b000",
   "metadata": {
    "scrolled": true
   },
   "outputs": [
    {
     "name": "stdout",
     "output_type": "stream",
     "text": [
      "###################################################\n",
      "LLM Response: SELECT \"ProductCategory\", COUNT(DISTINCT \"CustomerID\") AS UniqueCustomers\n",
      "FROM sales_tb\n",
      "GROUP BY \"ProductCategory\";\n",
      "###################################################\n",
      "###################################################\n",
      "Cleaned Query: SELECT \"ProductCategory\", COUNT(DISTINCT \"CustomerID\") AS UniqueCustomers\n",
      "FROM sales_tb\n",
      "GROUP BY \"ProductCategory\";\n",
      "###################################################\n",
      "###################################################\n",
      "Result: [('Beauty', 8), ('Clothing', 13), ('Electronics', 8)]\n",
      "###################################################\n"
     ]
    },
    {
     "data": {
      "text/plain": [
       "\"[('Beauty', 8), ('Clothing', 13), ('Electronics', 8)]\""
      ]
     },
     "execution_count": 103,
     "metadata": {},
     "output_type": "execute_result"
    }
   ],
   "source": [
    "from langchain.chains import create_sql_query_chain\n",
    "from langchain.prompts import PromptTemplate\n",
    "\n",
    "# Step 1: Create enhanced prompt\n",
    "enhanced_prompt = PromptTemplate(\n",
    "    input_variables=[\"input\", \"table_info\", \"top_k\"],\n",
    "    template=\"\"\"You are a SQLite expert. Given an input question, create a syntactically correct SQLite query.\n",
    "\n",
    "IMPORTANT RULES:\n",
    "- Return ONLY the SQL query\n",
    "- No explanations, no answers, no additional text\n",
    "- Use proper SQLite syntax\n",
    "- Use double quotes for column names with special characters\n",
    "- Always end with semicolon\n",
    "- If applicable, limit results to top {top_k} rows\n",
    "\n",
    "Table Schema:\n",
    "{table_info}\n",
    "\n",
    "Question: {input}\n",
    "\n",
    "\"\"\"\n",
    ")\n",
    "\n",
    "# Step 2: Create the chain\n",
    "chain = create_sql_query_chain(llm, db, prompt=enhanced_prompt)\n",
    "\n",
    "# Step 3: Enhanced execution function\n",
    "def execute_query(question):\n",
    "    try:\n",
    "        response = chain.invoke({\"question\": question})\n",
    "        print(\"###################################################\")\n",
    "        print(f\"LLM Response: {response}\")\n",
    "        print(\"###################################################\")\n",
    "        \n",
    "        # Simple cleaning - just remove outer quotes\n",
    "        cleaned_query = response.strip().strip(\"'\\\"\")\n",
    "        print(\"###################################################\")\n",
    "        print(f\"Cleaned Query: {cleaned_query}\")\n",
    "        print(\"###################################################\")        \n",
    "        \n",
    "        result = db.run(cleaned_query)\n",
    "        print(\"###################################################\")        \n",
    "        print(f\"Result: {result}\")\n",
    "        print(\"###################################################\")\n",
    "        return result\n",
    "        print(\"###################################################\")\n",
    "        \n",
    "    except Exception as e:\n",
    "        print(f\"An error occurred: {e}\")\n",
    "        return None\n",
    "\n",
    "def clean_and_validate_query(response):\n",
    "    \"\"\"Clean and validate SQL query from LLM response\"\"\"\n",
    "    \n",
    "    # Remove any wrapper text and extract SQL\n",
    "    response = response.strip()\n",
    "    \n",
    "    # Try multiple extraction methods\n",
    "    patterns = [\n",
    "        r'SQLQuery:\\s*(.*?)(?:\\n|$)',\n",
    "        r'Query:\\s*(.*?)(?:\\n|$)',\n",
    "        r'(SELECT.*?;)',\n",
    "        r'(INSERT.*?;)',\n",
    "        r'(UPDATE.*?;)',\n",
    "        r'(DELETE.*?;)'\n",
    "    ]\n",
    "    \n",
    "    extracted_query = None\n",
    "    \n",
    "    for pattern in patterns:\n",
    "        match = re.search(pattern, response, re.IGNORECASE | re.DOTALL)\n",
    "        if match:\n",
    "            extracted_query = match.group(1).strip()\n",
    "            break\n",
    "    \n",
    "    # If no pattern matched, assume the entire response is the query\n",
    "    if not extracted_query:\n",
    "        extracted_query = response\n",
    "    \n",
    "    # Clean the query\n",
    "    extracted_query = extracted_query.strip()\n",
    "    extracted_query = re.sub(r'\\s+', ' ', extracted_query)\n",
    "    \n",
    "    # Ensure proper semicolon\n",
    "    if not extracted_query.endswith(';'):\n",
    "        extracted_query += ';'\n",
    "    \n",
    "    # Basic validation\n",
    "    if validate_sql_query(extracted_query):\n",
    "        return extracted_query\n",
    "    else:\n",
    "        print(f\"Invalid query detected: {extracted_query}\")\n",
    "        return None\n",
    "\n",
    "# Test the improved function\n",
    "execute_query(\"How many unique customers are there for each product category?\")"
   ]
  },
  {
   "cell_type": "code",
   "execution_count": 89,
   "id": "84a62ad4-e3ae-4194-9441-4c215a54bb8e",
   "metadata": {},
   "outputs": [
    {
     "name": "stdout",
     "output_type": "stream",
     "text": [
      "LLM Response: SELECT COUNT(DISTINCT \"CustomerID\") FROM sales_tb;\n",
      "###################################################\n",
      "Cleaned Query: SELECT COUNT(DISTINCT \"CustomerID\") FROM sales_tb;\n",
      "###################################################\n",
      "###################################################\n",
      "Result: [(29,)]\n"
     ]
    },
    {
     "data": {
      "text/plain": [
       "'[(29,)]'"
      ]
     },
     "execution_count": 89,
     "metadata": {},
     "output_type": "execute_result"
    }
   ],
   "source": [
    "q1 = \"How many customers are there\"\n",
    "execute_query(q1)"
   ]
  },
  {
   "cell_type": "code",
   "execution_count": 91,
   "id": "0ae46b14-2996-4c2d-9255-427ac8970379",
   "metadata": {},
   "outputs": [
    {
     "name": "stdout",
     "output_type": "stream",
     "text": [
      "LLM Response: SELECT \"ProductCategory\", SUM(\"TotalAmount\") AS TotalSalesPerCategory FROM sales_tb GROUP BY \"ProductCategory\";\n",
      "###################################################\n",
      "Cleaned Query: SELECT \"ProductCategory\", SUM(\"TotalAmount\") AS TotalSalesPerCategory FROM sales_tb GROUP BY \"ProductCategory\";\n",
      "###################################################\n",
      "###################################################\n",
      "Result: [('Beauty', 1455), ('Clothing', 5040), ('Electronics', 5310)]\n"
     ]
    },
    {
     "data": {
      "text/plain": [
       "\"[('Beauty', 1455), ('Clothing', 5040), ('Electronics', 5310)]\""
      ]
     },
     "execution_count": 91,
     "metadata": {},
     "output_type": "execute_result"
    }
   ],
   "source": [
    "q2 = \"Calculate total sales amount per product category:\"\n",
    "execute_query(q2)"
   ]
  },
  {
   "cell_type": "code",
   "execution_count": 93,
   "id": "b1d2d8ec-6a62-4fe3-903b-33dbdf2a8922",
   "metadata": {},
   "outputs": [
    {
     "name": "stdout",
     "output_type": "stream",
     "text": [
      "LLM Response: ```sql\n",
      "SELECT \"Gender\", AVG(\"Age\") as AverageAge FROM sales_tb GROUP BY \"Gender\";\n",
      "```\n",
      "###################################################\n",
      "Cleaned Query: ```sql\n",
      "SELECT \"Gender\", AVG(\"Age\") as AverageAge FROM sales_tb GROUP BY \"Gender\";\n",
      "```\n",
      "###################################################\n",
      "An error occurred: (sqlite3.OperationalError) near \"```sql\n",
      "SELECT \"Gender\", AVG(\"Age\") as AverageAge FROM sales_tb GROUP BY \"Gender\";\n",
      "```\": syntax error\n",
      "[SQL: ```sql\n",
      "SELECT \"Gender\", AVG(\"Age\") as AverageAge FROM sales_tb GROUP BY \"Gender\";\n",
      "```]\n",
      "(Background on this error at: https://sqlalche.me/e/20/e3q8)\n"
     ]
    }
   ],
   "source": [
    "q3 = \"calculates the average age of customers grouped by gender.\"\n",
    "execute_query(q3)"
   ]
  },
  {
   "cell_type": "code",
   "execution_count": 94,
   "id": "6e9bb20b-dfcb-4f4c-b97e-196f13b79b12",
   "metadata": {},
   "outputs": [
    {
     "name": "stdout",
     "output_type": "stream",
     "text": [
      "LLM Response: SELECT \"CustomerID\", SUM(\"TotalAmount\") AS TotalSpent\n",
      "FROM sales_tb\n",
      "GROUP BY \"CustomerID\"\n",
      "ORDER BY TotalSpent DESC\n",
      "LIMIT 5;\n",
      "###################################################\n",
      "Cleaned Query: SELECT \"CustomerID\", SUM(\"TotalAmount\") AS TotalSpent\n",
      "FROM sales_tb\n",
      "GROUP BY \"CustomerID\"\n",
      "ORDER BY TotalSpent DESC\n",
      "LIMIT 5;\n",
      "###################################################\n",
      "###################################################\n",
      "Result: [('CUST015', 2000), ('CUST016', 1500), ('CUST013', 1500), ('CUST026', 1000), ('CUST002', 1000)]\n"
     ]
    },
    {
     "data": {
      "text/plain": [
       "\"[('CUST015', 2000), ('CUST016', 1500), ('CUST013', 1500), ('CUST026', 1000), ('CUST002', 1000)]\""
      ]
     },
     "execution_count": 94,
     "metadata": {},
     "output_type": "execute_result"
    }
   ],
   "source": [
    "q4 = \"identify the top spending customers based on their total amount spent.\"\n",
    "execute_query(q4)"
   ]
  },
  {
   "cell_type": "code",
   "execution_count": 95,
   "id": "08dd77e3-db70-4645-b041-20a293e5a41e",
   "metadata": {},
   "outputs": [
    {
     "name": "stdout",
     "output_type": "stream",
     "text": [
      "LLM Response: SELECT strftime('%Y-%m', \"Date\") AS Month, COUNT(*) AS TransactionCount FROM sales_tb GROUP BY Month ORDER BY Month;\n",
      "###################################################\n",
      "Cleaned Query: SELECT strftime('%Y-%m', \"Date\") AS Month, COUNT(*) AS TransactionCount FROM sales_tb GROUP BY Month ORDER BY Month;\n",
      "###################################################\n",
      "###################################################\n",
      "Result: [('2023-01', 4), ('2023-02', 4), ('2023-03', 1), ('2023-04', 5), ('2023-05', 2), ('2023-08', 3), ('2023-09', 1), ('2023-10', 4), ('2023-11', 3), ('2023-12', 2)]\n"
     ]
    },
    {
     "data": {
      "text/plain": [
       "\"[('2023-01', 4), ('2023-02', 4), ('2023-03', 1), ('2023-04', 5), ('2023-05', 2), ('2023-08', 3), ('2023-09', 1), ('2023-10', 4), ('2023-11', 3), ('2023-12', 2)]\""
      ]
     },
     "execution_count": 95,
     "metadata": {},
     "output_type": "execute_result"
    }
   ],
   "source": [
    "q5 = \"counts the number of transactions made each month.\"\n",
    "execute_query(q5)"
   ]
  },
  {
   "cell_type": "code",
   "execution_count": 96,
   "id": "e523a16e-cc98-4197-84a8-4929a152ef6e",
   "metadata": {},
   "outputs": [
    {
     "name": "stdout",
     "output_type": "stream",
     "text": [
      "LLM Response: ```sql\n",
      "SELECT \"ProductCategory\", SUM(\"TotalAmount\") AS TotalSales, AVG(\"PriceperUnit\") AS AveragePricePerUnit \n",
      "FROM sales_tb \n",
      "GROUP BY \"ProductCategory\";\n",
      "```\n",
      "###################################################\n",
      "Cleaned Query: ```sql\n",
      "SELECT \"ProductCategory\", SUM(\"TotalAmount\") AS TotalSales, AVG(\"PriceperUnit\") AS AveragePricePerUnit \n",
      "FROM sales_tb \n",
      "GROUP BY \"ProductCategory\";\n",
      "```\n",
      "###################################################\n",
      "An error occurred: (sqlite3.OperationalError) near \"```sql\n",
      "SELECT \"ProductCategory\", SUM(\"TotalAmount\") AS TotalSales, AVG(\"PriceperUnit\") AS AveragePricePerUnit \n",
      "FROM sales_tb \n",
      "GROUP BY \"ProductCategory\";\n",
      "```\": syntax error\n",
      "[SQL: ```sql\n",
      "SELECT \"ProductCategory\", SUM(\"TotalAmount\") AS TotalSales, AVG(\"PriceperUnit\") AS AveragePricePerUnit \n",
      "FROM sales_tb \n",
      "GROUP BY \"ProductCategory\";\n",
      "```]\n",
      "(Background on this error at: https://sqlalche.me/e/20/e3q8)\n"
     ]
    }
   ],
   "source": [
    "q6 = \"calculates the total sales amount and average price per unit for each product category.\"\n",
    "execute_query(q6)"
   ]
  },
  {
   "cell_type": "code",
   "execution_count": null,
   "id": "d29f428f-1e47-470c-b105-6faa5aa34d34",
   "metadata": {},
   "outputs": [],
   "source": []
  }
 ],
 "metadata": {
  "kernelspec": {
   "display_name": "Python [conda env:base] *",
   "language": "python",
   "name": "conda-base-py"
  },
  "language_info": {
   "codemirror_mode": {
    "name": "ipython",
    "version": 3
   },
   "file_extension": ".py",
   "mimetype": "text/x-python",
   "name": "python",
   "nbconvert_exporter": "python",
   "pygments_lexer": "ipython3",
   "version": "3.12.7"
  }
 },
 "nbformat": 4,
 "nbformat_minor": 5
}
